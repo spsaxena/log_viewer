{
 "cells": [
  {
   "cell_type": "markdown",
   "metadata": {},
   "source": [
    "# Log viewer"
   ]
  },
  {
   "cell_type": "code",
   "execution_count": null,
   "metadata": {},
   "outputs": [],
   "source": [
    "# !pip install pandas plotly dash dash_core_components dash_html_components"
   ]
  },
  {
   "cell_type": "code",
   "execution_count": null,
   "metadata": {},
   "outputs": [],
   "source": [
    "import re, textwrap\n",
    "import pandas as pd\n",
    "import plotly.graph_objects as go"
   ]
  },
  {
   "cell_type": "code",
   "execution_count": null,
   "metadata": {},
   "outputs": [],
   "source": [
    "log_filename = './test/test.log'\n",
    "with open(log_filename, 'r', encoding='utf-8-sig') as f:\n",
    "    log_string = f.read()"
   ]
  },
  {
   "cell_type": "code",
   "execution_count": null,
   "metadata": {},
   "outputs": [],
   "source": [
    "assert len(log_string)"
   ]
  },
  {
   "cell_type": "code",
   "execution_count": null,
   "metadata": {},
   "outputs": [],
   "source": [
    "# Define your regex pattern\n",
    "pattern = (\n",
    "    r\"(?P<log_level>INFO|DEV|DEBUG|ERROR|FATAL)\"\n",
    "    r\" \\| \"\n",
    "    r\"(?P<timestamp>\\d{4}-\\d{2}-\\d{2}T\\d{2}:\\d{2}:\\d{2}\\.\\d+[+-]\\d+)\"\n",
    "    r\" \\| \"\n",
    "    r\"(?P<name>exe: \\w+)\"\n",
    "    r\" \\| \"\n",
    "    r\"(?P<process_id>pid:\\d+)\"\n",
    "    r\" \\| \"\n",
    "    r\"(?P<thread_id>tid:\\d+)\"\n",
    "    r\" \\| \"\n",
    "    r\"(?P<message>.*?)(?=(?:INFO|DEV|DEBUG|ERROR|FATAL) \\| |\\Z)\"\n",
    ")"
   ]
  },
  {
   "cell_type": "code",
   "execution_count": null,
   "metadata": {},
   "outputs": [],
   "source": [
    "# Initialize start position\n",
    "start = 0\n",
    "\n",
    "# Find all matches\n",
    "for match in re.finditer(pattern, log_string, re.DOTALL):\n",
    "    # Get the start and end of the current match\n",
    "    match_start, match_end = match.span()\n",
    "\n",
    "    # If there's a gap between the last match and this one\n",
    "    if start != match_start:\n",
    "        # Print the unmatched part\n",
    "        print(log_string[start:match_start])\n",
    "\n",
    "    # Update start position\n",
    "    start = match_end\n",
    "\n",
    "# Print remaining unmatched part, if any\n",
    "if start < len(log_string):\n",
    "    print(log_string[start:])\n",
    "\n",
    "assert start == len(log_string)"
   ]
  },
  {
   "cell_type": "code",
   "execution_count": null,
   "metadata": {},
   "outputs": [],
   "source": [
    "matches = re.findall(pattern, log_string, re.DOTALL)\n",
    "df = pd.DataFrame(matches, columns=['log_level', 'timestamp', 'name', 'process_id', 'thread_id', 'message'])"
   ]
  },
  {
   "cell_type": "code",
   "execution_count": null,
   "metadata": {},
   "outputs": [],
   "source": [
    "df['message'] = df['message'].str.strip()  # Strip leading/trailing white space from messages"
   ]
  },
  {
   "cell_type": "code",
   "execution_count": null,
   "metadata": {},
   "outputs": [],
   "source": [
    "df['timestamp'] = pd.to_datetime(df['timestamp'])  # Convert timestamp to datetime"
   ]
  },
  {
   "cell_type": "code",
   "execution_count": null,
   "metadata": {},
   "outputs": [],
   "source": [
    "df=df.sort_values('timestamp') # Sort by timestamp, not expected to change order of messages"
   ]
  },
  {
   "cell_type": "code",
   "execution_count": null,
   "metadata": {},
   "outputs": [],
   "source": [
    "# Print the number of messages per thread_id\n",
    "print(f'df num of rows = {df.shape[0]} should match total messages {sum(df[\"thread_id\"].value_counts())}')\n",
    "\n",
    "df['thread_id'].value_counts()"
   ]
  },
  {
   "cell_type": "code",
   "execution_count": null,
   "metadata": {},
   "outputs": [],
   "source": [
    "# df.style.set_properties(**{'text-align': 'left'})"
   ]
  },
  {
   "cell_type": "code",
   "execution_count": null,
   "metadata": {},
   "outputs": [],
   "source": [
    "# prepare hover text, \n",
    "# message can be very long, have newlines, spaces\n",
    "\n",
    "# first replace all newlines with <br>\n",
    "df['hover_text'] = df['message'].str.replace('\\n', '<br>')"
   ]
  },
  {
   "cell_type": "code",
   "execution_count": null,
   "metadata": {},
   "outputs": [],
   "source": [
    "import re\n",
    "\n",
    "def insert_br(text, line_length):\n",
    "    # Split the text into lines at existing <br> tags\n",
    "    lines = re.split('<br>', text)\n",
    "\n",
    "    # For each line, insert <br> tags every n characters, respecting words\n",
    "    lines = ['<br>'.join(textwrap.wrap(line, line_length)) for line in lines]\n",
    "\n",
    "    # Join the lines back together with <br> tags\n",
    "    text = '<br>'.join(lines)\n",
    "\n",
    "    return text\n",
    "\n",
    "# Apply the function to your DataFrame column\n",
    "df['hover_text'] = df['hover_text'].apply(lambda x: insert_br(x, 80))  # Change 50 to your preferred line length\n"
   ]
  },
  {
   "cell_type": "code",
   "execution_count": null,
   "metadata": {},
   "outputs": [],
   "source": [
    "# at the end replace all spaces with &nbsp;\n",
    "df['hover_text'] = df['hover_text'].str.replace(' ', '&nbsp;')"
   ]
  },
  {
   "cell_type": "code",
   "execution_count": null,
   "metadata": {},
   "outputs": [],
   "source": [
    "df.head()"
   ]
  },
  {
   "cell_type": "code",
   "execution_count": null,
   "metadata": {},
   "outputs": [],
   "source": [
    "# Map log_level to marker colors\n",
    "color_marker = {\n",
    "    'INFO': 'blue', \n",
    "    'DEV': 'lightgreen', \n",
    "    'DEBUG': 'orange', \n",
    "    'ERROR': 'red', \n",
    "    'FATAL': 'red'\n",
    "}\n",
    "\n",
    "color_line = {\n",
    "    'INFO': 'DarkSlateGrey', \n",
    "    'DEV': 'DarkSlateGrey', \n",
    "    'DEBUG': 'DarkSlateGrey', \n",
    "    'ERROR': 'yellow', \n",
    "    'FATAL': 'maroon'\n",
    "}\n",
    "\n",
    "# Map log_level to marker size\n",
    "size_map = {\n",
    "    'INFO': 10, \n",
    "    'DEV': 8, \n",
    "    'DEBUG': 8, \n",
    "    'ERROR': 12, \n",
    "    'FATAL': 15\n",
    "}"
   ]
  },
  {
   "cell_type": "code",
   "execution_count": null,
   "metadata": {},
   "outputs": [],
   "source": [
    "def get_figure(input_df):\n",
    "    fig=go.Figure()\n",
    "\n",
    "    # Add a trace for each log_level\n",
    "    for log_level in input_df['log_level'].unique():\n",
    "        df_log_level = input_df[input_df['log_level'] == log_level]\n",
    "        fig.add_trace(\n",
    "            go.Scatter(\n",
    "                x=df_log_level['thread_id'], \n",
    "                y=df_log_level.index, \n",
    "\n",
    "                text=df_log_level['hover_text'],\n",
    "                mode='markers', \n",
    "                marker=dict(\n",
    "                    color=color_marker[log_level], \n",
    "                    symbol='diamond', \n",
    "                    size=size_map[log_level],\n",
    "                    line=dict(\n",
    "                        width=1, \n",
    "                        color=color_line[log_level]\n",
    "                    )\n",
    "                ), \n",
    "                name=log_level\n",
    "            )\n",
    "        )\n",
    "\n",
    "    # Update layout to show text on hover\n",
    "    fig.update_layout(\n",
    "        hovermode='closest', title=f'Log:{log_filename}', \n",
    "            yaxis=dict(\n",
    "            autorange='reversed',\n",
    "        ),\n",
    "        hoverlabel=dict(\n",
    "            font=dict(\n",
    "                size=20,  # Set font size of hover text\n",
    "            )\n",
    "        ),\n",
    "        width=800,  # Set width of plot in pixels\n",
    "        height=1000,  # Set height of plot in pixels\n",
    "    )\n",
    "    return fig\n",
    "\n",
    "# Show the plot\n",
    "# get_figure(df).show()"
   ]
  },
  {
   "cell_type": "code",
   "execution_count": null,
   "metadata": {},
   "outputs": [],
   "source": [
    "import dash\n",
    "import dash_core_components as dcc\n",
    "import dash_html_components as html\n",
    "import plotly.graph_objects as go\n",
    "\n",
    "# Initialize the Dash app\n",
    "app = dash.Dash(__name__)\n",
    "\n",
    "# Define the layout of the app\n",
    "app.layout = html.Div([\n",
    "    dcc.Input(id='filter-field', type='text', placeholder='Filter', style={'height': 20, 'width': '50%'}),\n",
    "    dcc.Graph(id='log-graph')\n",
    "], style={\n",
    "    'width': '100%',\n",
    "    'height': '100%',})\n",
    "\n",
    "@app.callback(\n",
    "    dash.dependencies.Output('log-graph', 'figure'),\n",
    "    [dash.dependencies.Input('filter-field', 'value')]\n",
    ")\n",
    "def update_graph(filter_string):\n",
    "    if filter_string is None or filter_string == '':\n",
    "        df_filtered = df\n",
    "    else:\n",
    "        df_filtered = df[df['message'].str.contains(filter_string, case=False)]\n",
    "    # print(f'filter_string={filter_string}')\n",
    "\n",
    "    return get_figure(df_filtered)\n",
    "\n",
    "# Run the app\n",
    "if __name__ == '__main__':\n",
    "    app.run_server(debug=True)"
   ]
  },
  {
   "cell_type": "code",
   "execution_count": null,
   "metadata": {},
   "outputs": [],
   "source": []
  },
  {
   "cell_type": "code",
   "execution_count": null,
   "metadata": {},
   "outputs": [],
   "source": []
  }
 ],
 "metadata": {
  "kernelspec": {
   "display_name": "Python 3",
   "language": "python",
   "name": "python3"
  },
  "language_info": {
   "codemirror_mode": {
    "name": "ipython",
    "version": 3
   },
   "file_extension": ".py",
   "mimetype": "text/x-python",
   "name": "python",
   "nbconvert_exporter": "python",
   "pygments_lexer": "ipython3",
   "version": "3.9.6"
  }
 },
 "nbformat": 4,
 "nbformat_minor": 2
}
